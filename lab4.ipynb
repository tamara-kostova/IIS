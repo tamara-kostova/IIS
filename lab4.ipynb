{
  "nbformat": 4,
  "nbformat_minor": 0,
  "metadata": {
    "colab": {
      "provenance": [],
      "authorship_tag": "ABX9TyNDQp67GOPngtBc0JQt+ZWe",
      "include_colab_link": true
    },
    "kernelspec": {
      "name": "python3",
      "display_name": "Python 3"
    },
    "language_info": {
      "name": "python"
    }
  },
  "cells": [
    {
      "cell_type": "markdown",
      "metadata": {
        "id": "view-in-github",
        "colab_type": "text"
      },
      "source": [
        "<a href=\"https://colab.research.google.com/github/tamara-kostova/IIS/blob/master/lab4.ipynb\" target=\"_parent\"><img src=\"https://colab.research.google.com/assets/colab-badge.svg\" alt=\"Open In Colab\"/></a>"
      ]
    },
    {
      "cell_type": "code",
      "source": [
        "!pip install torch\n",
        "!pip install torch_geometric\n",
        "!pip install torch_scatter torch_sparse torch_cluster torch_spline_conv -f https://data.pyg.org/whl/torch-2.2.0+cpu.html"
      ],
      "metadata": {
        "colab": {
          "base_uri": "https://localhost:8080/"
        },
        "id": "LEN-Q8rd1HBf",
        "outputId": "57dadea7-8007-42ec-e515-8de463b82bed"
      },
      "execution_count": 22,
      "outputs": [
        {
          "output_type": "stream",
          "name": "stdout",
          "text": [
            "Requirement already satisfied: torch in /usr/local/lib/python3.10/dist-packages (2.2.1+cu121)\n",
            "Requirement already satisfied: filelock in /usr/local/lib/python3.10/dist-packages (from torch) (3.14.0)\n",
            "Requirement already satisfied: typing-extensions>=4.8.0 in /usr/local/lib/python3.10/dist-packages (from torch) (4.11.0)\n",
            "Requirement already satisfied: sympy in /usr/local/lib/python3.10/dist-packages (from torch) (1.12)\n",
            "Requirement already satisfied: networkx in /usr/local/lib/python3.10/dist-packages (from torch) (3.3)\n",
            "Requirement already satisfied: jinja2 in /usr/local/lib/python3.10/dist-packages (from torch) (3.1.3)\n",
            "Requirement already satisfied: fsspec in /usr/local/lib/python3.10/dist-packages (from torch) (2023.6.0)\n",
            "Requirement already satisfied: nvidia-cuda-nvrtc-cu12==12.1.105 in /usr/local/lib/python3.10/dist-packages (from torch) (12.1.105)\n",
            "Requirement already satisfied: nvidia-cuda-runtime-cu12==12.1.105 in /usr/local/lib/python3.10/dist-packages (from torch) (12.1.105)\n",
            "Requirement already satisfied: nvidia-cuda-cupti-cu12==12.1.105 in /usr/local/lib/python3.10/dist-packages (from torch) (12.1.105)\n",
            "Requirement already satisfied: nvidia-cudnn-cu12==8.9.2.26 in /usr/local/lib/python3.10/dist-packages (from torch) (8.9.2.26)\n",
            "Requirement already satisfied: nvidia-cublas-cu12==12.1.3.1 in /usr/local/lib/python3.10/dist-packages (from torch) (12.1.3.1)\n",
            "Requirement already satisfied: nvidia-cufft-cu12==11.0.2.54 in /usr/local/lib/python3.10/dist-packages (from torch) (11.0.2.54)\n",
            "Requirement already satisfied: nvidia-curand-cu12==10.3.2.106 in /usr/local/lib/python3.10/dist-packages (from torch) (10.3.2.106)\n",
            "Requirement already satisfied: nvidia-cusolver-cu12==11.4.5.107 in /usr/local/lib/python3.10/dist-packages (from torch) (11.4.5.107)\n",
            "Requirement already satisfied: nvidia-cusparse-cu12==12.1.0.106 in /usr/local/lib/python3.10/dist-packages (from torch) (12.1.0.106)\n",
            "Requirement already satisfied: nvidia-nccl-cu12==2.19.3 in /usr/local/lib/python3.10/dist-packages (from torch) (2.19.3)\n",
            "Requirement already satisfied: nvidia-nvtx-cu12==12.1.105 in /usr/local/lib/python3.10/dist-packages (from torch) (12.1.105)\n",
            "Requirement already satisfied: triton==2.2.0 in /usr/local/lib/python3.10/dist-packages (from torch) (2.2.0)\n",
            "Requirement already satisfied: nvidia-nvjitlink-cu12 in /usr/local/lib/python3.10/dist-packages (from nvidia-cusolver-cu12==11.4.5.107->torch) (12.4.127)\n",
            "Requirement already satisfied: MarkupSafe>=2.0 in /usr/local/lib/python3.10/dist-packages (from jinja2->torch) (2.1.5)\n",
            "Requirement already satisfied: mpmath>=0.19 in /usr/local/lib/python3.10/dist-packages (from sympy->torch) (1.3.0)\n",
            "Requirement already satisfied: torch_geometric in /usr/local/lib/python3.10/dist-packages (2.5.3)\n",
            "Requirement already satisfied: tqdm in /usr/local/lib/python3.10/dist-packages (from torch_geometric) (4.66.2)\n",
            "Requirement already satisfied: numpy in /usr/local/lib/python3.10/dist-packages (from torch_geometric) (1.25.2)\n",
            "Requirement already satisfied: scipy in /usr/local/lib/python3.10/dist-packages (from torch_geometric) (1.11.4)\n",
            "Requirement already satisfied: fsspec in /usr/local/lib/python3.10/dist-packages (from torch_geometric) (2023.6.0)\n",
            "Requirement already satisfied: jinja2 in /usr/local/lib/python3.10/dist-packages (from torch_geometric) (3.1.3)\n",
            "Requirement already satisfied: aiohttp in /usr/local/lib/python3.10/dist-packages (from torch_geometric) (3.9.5)\n",
            "Requirement already satisfied: requests in /usr/local/lib/python3.10/dist-packages (from torch_geometric) (2.31.0)\n",
            "Requirement already satisfied: pyparsing in /usr/local/lib/python3.10/dist-packages (from torch_geometric) (3.1.2)\n",
            "Requirement already satisfied: scikit-learn in /usr/local/lib/python3.10/dist-packages (from torch_geometric) (1.2.2)\n",
            "Requirement already satisfied: psutil>=5.8.0 in /usr/local/lib/python3.10/dist-packages (from torch_geometric) (5.9.5)\n",
            "Requirement already satisfied: aiosignal>=1.1.2 in /usr/local/lib/python3.10/dist-packages (from aiohttp->torch_geometric) (1.3.1)\n",
            "Requirement already satisfied: attrs>=17.3.0 in /usr/local/lib/python3.10/dist-packages (from aiohttp->torch_geometric) (23.2.0)\n",
            "Requirement already satisfied: frozenlist>=1.1.1 in /usr/local/lib/python3.10/dist-packages (from aiohttp->torch_geometric) (1.4.1)\n",
            "Requirement already satisfied: multidict<7.0,>=4.5 in /usr/local/lib/python3.10/dist-packages (from aiohttp->torch_geometric) (6.0.5)\n",
            "Requirement already satisfied: yarl<2.0,>=1.0 in /usr/local/lib/python3.10/dist-packages (from aiohttp->torch_geometric) (1.9.4)\n",
            "Requirement already satisfied: async-timeout<5.0,>=4.0 in /usr/local/lib/python3.10/dist-packages (from aiohttp->torch_geometric) (4.0.3)\n",
            "Requirement already satisfied: MarkupSafe>=2.0 in /usr/local/lib/python3.10/dist-packages (from jinja2->torch_geometric) (2.1.5)\n",
            "Requirement already satisfied: charset-normalizer<4,>=2 in /usr/local/lib/python3.10/dist-packages (from requests->torch_geometric) (3.3.2)\n",
            "Requirement already satisfied: idna<4,>=2.5 in /usr/local/lib/python3.10/dist-packages (from requests->torch_geometric) (3.7)\n",
            "Requirement already satisfied: urllib3<3,>=1.21.1 in /usr/local/lib/python3.10/dist-packages (from requests->torch_geometric) (2.0.7)\n",
            "Requirement already satisfied: certifi>=2017.4.17 in /usr/local/lib/python3.10/dist-packages (from requests->torch_geometric) (2024.2.2)\n",
            "Requirement already satisfied: joblib>=1.1.1 in /usr/local/lib/python3.10/dist-packages (from scikit-learn->torch_geometric) (1.4.0)\n",
            "Requirement already satisfied: threadpoolctl>=2.0.0 in /usr/local/lib/python3.10/dist-packages (from scikit-learn->torch_geometric) (3.5.0)\n",
            "Looking in links: https://data.pyg.org/whl/torch-2.2.0+cpu.html\n",
            "Requirement already satisfied: torch_scatter in /usr/local/lib/python3.10/dist-packages (2.1.2+pt22cpu)\n",
            "Requirement already satisfied: torch_sparse in /usr/local/lib/python3.10/dist-packages (0.6.18+pt22cpu)\n",
            "Requirement already satisfied: torch_cluster in /usr/local/lib/python3.10/dist-packages (1.6.3+pt22cpu)\n",
            "Requirement already satisfied: torch_spline_conv in /usr/local/lib/python3.10/dist-packages (1.2.2+pt22cpu)\n",
            "Requirement already satisfied: scipy in /usr/local/lib/python3.10/dist-packages (from torch_sparse) (1.11.4)\n",
            "Requirement already satisfied: numpy<1.28.0,>=1.21.6 in /usr/local/lib/python3.10/dist-packages (from scipy->torch_sparse) (1.25.2)\n"
          ]
        }
      ]
    },
    {
      "cell_type": "code",
      "execution_count": 23,
      "metadata": {
        "id": "TdDo-v8q07Up"
      },
      "outputs": [],
      "source": [
        "import torch\n",
        "from torch_geometric.nn import TransE, ComplEx\n"
      ]
    },
    {
      "cell_type": "markdown",
      "source": [
        "**Function for training**"
      ],
      "metadata": {
        "id": "GeeVbdgG3PFm"
      }
    },
    {
      "cell_type": "code",
      "source": [
        "def train(model, data_loader, optimizer, epochs=10):\n",
        "    for epoch in range(epochs):\n",
        "        model.train()\n",
        "        total_loss = 0\n",
        "        total_examples = 0\n",
        "\n",
        "        for head_index, rel_type, tail_index in data_loader:\n",
        "            optimizer.zero_grad()\n",
        "            loss = model.loss(head_index, rel_type, tail_index)\n",
        "            loss.backward()\n",
        "            optimizer.step()\n",
        "            total_loss += float(loss) * head_index.numel()\n",
        "            total_examples += head_index.numel()\n",
        "\n",
        "        loss = total_loss / total_examples\n",
        "        print(f'Epoch: {epoch:03d}, Loss: {loss:.4f}')"
      ],
      "metadata": {
        "id": "8xRSzCXT1ACV"
      },
      "execution_count": 36,
      "outputs": []
    },
    {
      "cell_type": "markdown",
      "source": [
        "**Function for evaluating**"
      ],
      "metadata": {
        "id": "KM8D28_23Npo"
      }
    },
    {
      "cell_type": "code",
      "source": [
        "def evaluate(model, data_loader):\n",
        "    hits1_list = []\n",
        "    hits3_list = []\n",
        "    hits10_list = []\n",
        "    mr_list = []\n",
        "    mrr_list = []\n",
        "\n",
        "    for head_index, rel_type, tail_index in data_loader:\n",
        "        head_embeds = model.node_emb(head_index)\n",
        "        relation_embeds = model.rel_emb(rel_type)\n",
        "        tail_embeds = model.node_emb(tail_index)\n",
        "\n",
        "        if isinstance(model, TransE):\n",
        "            scores = torch.norm(head_embeds + relation_embeds - tail_embeds, p=1, dim=1)\n",
        "\n",
        "        elif isinstance(model, ComplEx):\n",
        "            # Get real and imaginary parts\n",
        "            re_relation, im_relation = torch.chunk(relation_embeds, 2, dim=1)\n",
        "            re_head, im_head = torch.chunk(head_embeds, 2, dim=1)\n",
        "            re_tail, im_tail = torch.chunk(tail_embeds, 2, dim=1)\n",
        "\n",
        "            # Compute scores\n",
        "            re_score = re_head * re_relation - im_head * im_relation\n",
        "            im_score = re_head * im_relation + im_head * re_relation\n",
        "            scores = (re_score * re_tail + im_score * im_tail)\n",
        "\n",
        "            # Negate as we want to rank scores in ascending order, lower the better\n",
        "            scores = - scores.sum(dim=1)\n",
        "\n",
        "        else:\n",
        "            raise ValueError(f'Unsupported model.')\n",
        "\n",
        "        scores = scores.view(-1, head_embeds.size()[0])\n",
        "\n",
        "        hits1, hits3, hits10, mr, mrr = eval_metrics(scores)\n",
        "        hits1_list.append(hits1.item())\n",
        "        hits3_list.append(hits3.item())\n",
        "        hits10_list.append(hits10.item())\n",
        "        mr_list.append(mr.item())\n",
        "        mrr_list.append(mrr.item())\n",
        "\n",
        "    hits1 = sum(hits1_list) / len(hits1_list)\n",
        "    hits3 = sum(hits3_list) / len(hits1_list)\n",
        "    hits10 = sum(hits10_list) / len(hits1_list)\n",
        "    mr = sum(mr_list) / len(hits1_list)\n",
        "    mrr = sum(mrr_list) / len(hits1_list)\n",
        "\n",
        "    return hits1, hits3, hits10, mr, mrr"
      ],
      "metadata": {
        "id": "41MZ8Fg61o6_"
      },
      "execution_count": 37,
      "outputs": []
    },
    {
      "cell_type": "markdown",
      "source": [
        "**Evaluation metrics**"
      ],
      "metadata": {
        "id": "zfo8z1dV3IBE"
      }
    },
    {
      "cell_type": "code",
      "source": [
        "def eval_metrics(y_pred):\n",
        "    argsort = torch.argsort(y_pred, dim=1, descending=False)\n",
        "    # not using argsort to do the rankings to avoid bias when the scores are equal\n",
        "    ranking_list = torch.nonzero(argsort == 0, as_tuple=False)\n",
        "    ranking_list = ranking_list[:, 1] + 1\n",
        "    hits1_list = (ranking_list <= 1).to(torch.float)\n",
        "    hits3_list = (ranking_list <= 3).to(torch.float)\n",
        "    hits10_list = (ranking_list <= 10).to(torch.float)\n",
        "    mr_list = ranking_list.to(torch.float)\n",
        "    mrr_list = 1. / ranking_list.to(torch.float)\n",
        "\n",
        "    return hits1_list.mean(), hits3_list.mean(), hits10_list.mean(), mr_list.mean(), mrr_list.mean()"
      ],
      "metadata": {
        "id": "igNEcybC1pdp"
      },
      "execution_count": 38,
      "outputs": []
    },
    {
      "cell_type": "markdown",
      "source": [
        "**Load data**"
      ],
      "metadata": {
        "id": "NPkGql1K3SK3"
      }
    },
    {
      "cell_type": "code",
      "source": [
        "from torch_geometric.datasets import FB15k_237\n",
        "\n",
        "train_data = FB15k_237('../data/FB15k', split='train')[0]\n",
        "val_data = FB15k_237('../data/FB15k', split='val')[0]\n",
        "test_data = FB15k_237('../data/FB15k', split='test')[0]\n"
      ],
      "metadata": {
        "id": "ATCe8irW1rKp"
      },
      "execution_count": 39,
      "outputs": []
    },
    {
      "cell_type": "markdown",
      "source": [
        "# **EXERCISE 1**"
      ],
      "metadata": {
        "id": "fVTJUZA62AC9"
      }
    },
    {
      "cell_type": "markdown",
      "source": [
        "TransE Knowledge Graph"
      ],
      "metadata": {
        "id": "50WJILZn2FRu"
      }
    },
    {
      "cell_type": "code",
      "source": [
        "from torch.optim import Adam\n",
        "\n",
        "model = TransE(num_nodes=train_data.num_nodes,\n",
        "                   num_relations=train_data.num_edge_types,\n",
        "                   hidden_channels=50)\n",
        "\n",
        "loader = model.loader(head_index=train_data.edge_index[0],\n",
        "                          rel_type=train_data.edge_type,\n",
        "                          tail_index=train_data.edge_index[1],\n",
        "                          batch_size=1000,\n",
        "                          shuffle=True)\n",
        "\n",
        "optimizer = Adam(model.parameters(), lr=0.01)"
      ],
      "metadata": {
        "id": "331zSBJK10Sg"
      },
      "execution_count": 40,
      "outputs": []
    },
    {
      "cell_type": "markdown",
      "source": [
        "**Train model**"
      ],
      "metadata": {
        "id": "PsH66Ism3AuJ"
      }
    },
    {
      "cell_type": "code",
      "source": [
        "train(model, loader, optimizer)"
      ],
      "metadata": {
        "colab": {
          "base_uri": "https://localhost:8080/"
        },
        "id": "Zy3yc-YE17k8",
        "outputId": "a12ef07c-0653-4671-c9cd-c15567f55b3b"
      },
      "execution_count": 41,
      "outputs": [
        {
          "output_type": "stream",
          "name": "stdout",
          "text": [
            "Epoch: 000, Loss: 0.7605\n",
            "Epoch: 001, Loss: 0.5579\n",
            "Epoch: 002, Loss: 0.4360\n",
            "Epoch: 003, Loss: 0.3519\n",
            "Epoch: 004, Loss: 0.2976\n",
            "Epoch: 005, Loss: 0.2639\n",
            "Epoch: 006, Loss: 0.2420\n",
            "Epoch: 007, Loss: 0.2263\n",
            "Epoch: 008, Loss: 0.2143\n",
            "Epoch: 009, Loss: 0.2032\n"
          ]
        }
      ]
    },
    {
      "cell_type": "markdown",
      "source": [
        "**Results**"
      ],
      "metadata": {
        "id": "2odbCT5I3B98"
      }
    },
    {
      "cell_type": "code",
      "source": [
        "hits1, hits3, hits10, mr, mrr = evaluate(model,loader)"
      ],
      "metadata": {
        "id": "CMeHWV0pALhJ"
      },
      "execution_count": 42,
      "outputs": []
    },
    {
      "cell_type": "code",
      "source": [
        "print(f'Mean Rank: {mr:.2f}, Mean Reciprocal Rank: {mrr:.4f}, '\n",
        "      f'Hits@1: {hits1:.4f}, Hits@3: {hits3:.4f}, Hits@10: {hits10:.4f}')"
      ],
      "metadata": {
        "colab": {
          "base_uri": "https://localhost:8080/"
        },
        "id": "CbROEzzLAUe2",
        "outputId": "8bd5ee43-5777-4a1c-96eb-d45305032017"
      },
      "execution_count": 43,
      "outputs": [
        {
          "output_type": "stream",
          "name": "stdout",
          "text": [
            "Mean Rank: 528.74, Mean Reciprocal Rank: 0.0082, Hits@1: 0.0000, Hits@3: 0.0073, Hits@10: 0.0110\n"
          ]
        }
      ]
    },
    {
      "cell_type": "markdown",
      "source": [
        "# **EXERCISE 2**"
      ],
      "metadata": {
        "id": "usc6bKsx2eht"
      }
    },
    {
      "cell_type": "code",
      "source": [
        "model2 = ComplEx(num_nodes=train_data.num_nodes,\n",
        "                   num_relations=train_data.num_edge_types,\n",
        "                   hidden_channels=50)\n",
        "\n",
        "loader2 = model2.loader(head_index=train_data.edge_index[0],\n",
        "                          rel_type=train_data.edge_type,\n",
        "                          tail_index=train_data.edge_index[1],\n",
        "                          batch_size=1000,\n",
        "                          shuffle=True)\n",
        "\n",
        "optimizer2 = Adam(model.parameters(), lr=0.01)"
      ],
      "metadata": {
        "id": "CCvgGymj2m3h"
      },
      "execution_count": 44,
      "outputs": []
    },
    {
      "cell_type": "markdown",
      "source": [
        "**Train model**"
      ],
      "metadata": {
        "id": "ZkgLT1Oj22VY"
      }
    },
    {
      "cell_type": "code",
      "source": [
        "train(model2, loader2, optimizer2)"
      ],
      "metadata": {
        "colab": {
          "base_uri": "https://localhost:8080/"
        },
        "id": "Pvaqsw0t2zuK",
        "outputId": "7eec5d17-99f6-414b-ba86-68e53a61d57e"
      },
      "execution_count": 45,
      "outputs": [
        {
          "output_type": "stream",
          "name": "stdout",
          "text": [
            "Epoch: 000, Loss: 0.6931\n",
            "Epoch: 001, Loss: 0.6931\n",
            "Epoch: 002, Loss: 0.6931\n",
            "Epoch: 003, Loss: 0.6931\n",
            "Epoch: 004, Loss: 0.6931\n",
            "Epoch: 005, Loss: 0.6931\n",
            "Epoch: 006, Loss: 0.6931\n",
            "Epoch: 007, Loss: 0.6931\n",
            "Epoch: 008, Loss: 0.6931\n",
            "Epoch: 009, Loss: 0.6931\n"
          ]
        }
      ]
    },
    {
      "cell_type": "markdown",
      "source": [
        "**Results**"
      ],
      "metadata": {
        "id": "dor2RF1H23XD"
      }
    },
    {
      "cell_type": "code",
      "source": [
        "hits1, hits3, hits10, mr, mrr = evaluate(model2,loader2)"
      ],
      "metadata": {
        "id": "29LIZx5vAz34"
      },
      "execution_count": 46,
      "outputs": []
    },
    {
      "cell_type": "code",
      "source": [
        "print(f'Mean Rank: {mr:.2f}, Mean Reciprocal Rank: {mrr:.4f}, '\n",
        "      f'Hits@1: {hits1:.4f}, Hits@3: {hits3:.4f}, Hits@10: {hits10:.4f}')"
      ],
      "metadata": {
        "colab": {
          "base_uri": "https://localhost:8080/"
        },
        "id": "Jxw6UHVT8DBV",
        "outputId": "9c3bc765-9dde-4a1c-d495-6e29128ebd92"
      },
      "execution_count": 47,
      "outputs": [
        {
          "output_type": "stream",
          "name": "stdout",
          "text": [
            "Mean Rank: 498.27, Mean Reciprocal Rank: 0.0093, Hits@1: 0.0000, Hits@3: 0.0037, Hits@10: 0.0183\n"
          ]
        }
      ]
    },
    {
      "cell_type": "markdown",
      "source": [
        "## **Conclusion**"
      ],
      "metadata": {
        "id": "dDj7VKzwCH45"
      }
    },
    {
      "cell_type": "markdown",
      "source": [
        "The **ComplEx** model has better MR and MRR scores which meand it outperforms it on average (*The Mean Rank is the average rank of the first correct answer - so **lower** values are better, whereas Mean Reciprocial Rank is the average of the reciprocal ranks of the first correct answer for each query which means **higher** numbers are better*).\n",
        "\n",
        "\n",
        "---\n",
        "\n",
        "\n",
        "The **TransE** model has a higher Hits@3 than the **ComplEx** model, indicating that it is better at recommending relevant items within the top 3 predictions, whereas the **ComplEx** model is better when it comes to the top 10 predictions."
      ],
      "metadata": {
        "id": "UI0g7trwCLh1"
      }
    }
  ]
}