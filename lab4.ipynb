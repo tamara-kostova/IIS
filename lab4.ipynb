{
  "nbformat": 4,
  "nbformat_minor": 0,
  "metadata": {
    "colab": {
      "provenance": [],
      "authorship_tag": "ABX9TyOFZhTVIF/HFwstTaxD2Isf",
      "include_colab_link": true
    },
    "kernelspec": {
      "name": "python3",
      "display_name": "Python 3"
    },
    "language_info": {
      "name": "python"
    }
  },
  "cells": [
    {
      "cell_type": "markdown",
      "metadata": {
        "id": "view-in-github",
        "colab_type": "text"
      },
      "source": [
        "<a href=\"https://colab.research.google.com/github/tamara-kostova/IIS/blob/master/lab4.ipynb\" target=\"_parent\"><img src=\"https://colab.research.google.com/assets/colab-badge.svg\" alt=\"Open In Colab\"/></a>"
      ]
    },
    {
      "cell_type": "code",
      "source": [
        "!pip install torch\n",
        "!pip install torch_geometric\n",
        "!pip install torch_scatter torch_sparse torch_cluster torch_spline_conv -f https://data.pyg.org/whl/torch-2.2.0+cpu.html"
      ],
      "metadata": {
        "colab": {
          "base_uri": "https://localhost:8080/"
        },
        "id": "LEN-Q8rd1HBf",
        "outputId": "53cb679a-0bb2-4045-8e62-8647d944924a"
      },
      "execution_count": 3,
      "outputs": [
        {
          "output_type": "stream",
          "name": "stdout",
          "text": [
            "Requirement already satisfied: torch in /usr/local/lib/python3.10/dist-packages (2.2.1+cu121)\n",
            "Requirement already satisfied: filelock in /usr/local/lib/python3.10/dist-packages (from torch) (3.14.0)\n",
            "Requirement already satisfied: typing-extensions>=4.8.0 in /usr/local/lib/python3.10/dist-packages (from torch) (4.11.0)\n",
            "Requirement already satisfied: sympy in /usr/local/lib/python3.10/dist-packages (from torch) (1.12)\n",
            "Requirement already satisfied: networkx in /usr/local/lib/python3.10/dist-packages (from torch) (3.3)\n",
            "Requirement already satisfied: jinja2 in /usr/local/lib/python3.10/dist-packages (from torch) (3.1.3)\n",
            "Requirement already satisfied: fsspec in /usr/local/lib/python3.10/dist-packages (from torch) (2023.6.0)\n",
            "Requirement already satisfied: nvidia-cuda-nvrtc-cu12==12.1.105 in /usr/local/lib/python3.10/dist-packages (from torch) (12.1.105)\n",
            "Requirement already satisfied: nvidia-cuda-runtime-cu12==12.1.105 in /usr/local/lib/python3.10/dist-packages (from torch) (12.1.105)\n",
            "Requirement already satisfied: nvidia-cuda-cupti-cu12==12.1.105 in /usr/local/lib/python3.10/dist-packages (from torch) (12.1.105)\n",
            "Requirement already satisfied: nvidia-cudnn-cu12==8.9.2.26 in /usr/local/lib/python3.10/dist-packages (from torch) (8.9.2.26)\n",
            "Requirement already satisfied: nvidia-cublas-cu12==12.1.3.1 in /usr/local/lib/python3.10/dist-packages (from torch) (12.1.3.1)\n",
            "Requirement already satisfied: nvidia-cufft-cu12==11.0.2.54 in /usr/local/lib/python3.10/dist-packages (from torch) (11.0.2.54)\n",
            "Requirement already satisfied: nvidia-curand-cu12==10.3.2.106 in /usr/local/lib/python3.10/dist-packages (from torch) (10.3.2.106)\n",
            "Requirement already satisfied: nvidia-cusolver-cu12==11.4.5.107 in /usr/local/lib/python3.10/dist-packages (from torch) (11.4.5.107)\n",
            "Requirement already satisfied: nvidia-cusparse-cu12==12.1.0.106 in /usr/local/lib/python3.10/dist-packages (from torch) (12.1.0.106)\n",
            "Requirement already satisfied: nvidia-nccl-cu12==2.19.3 in /usr/local/lib/python3.10/dist-packages (from torch) (2.19.3)\n",
            "Requirement already satisfied: nvidia-nvtx-cu12==12.1.105 in /usr/local/lib/python3.10/dist-packages (from torch) (12.1.105)\n",
            "Requirement already satisfied: triton==2.2.0 in /usr/local/lib/python3.10/dist-packages (from torch) (2.2.0)\n",
            "Requirement already satisfied: nvidia-nvjitlink-cu12 in /usr/local/lib/python3.10/dist-packages (from nvidia-cusolver-cu12==11.4.5.107->torch) (12.4.127)\n",
            "Requirement already satisfied: MarkupSafe>=2.0 in /usr/local/lib/python3.10/dist-packages (from jinja2->torch) (2.1.5)\n",
            "Requirement already satisfied: mpmath>=0.19 in /usr/local/lib/python3.10/dist-packages (from sympy->torch) (1.3.0)\n",
            "Collecting torch_geometric\n",
            "  Downloading torch_geometric-2.5.3-py3-none-any.whl (1.1 MB)\n",
            "\u001b[2K     \u001b[90m━━━━━━━━━━━━━━━━━━━━━━━━━━━━━━━━━━━━━━━━\u001b[0m \u001b[32m1.1/1.1 MB\u001b[0m \u001b[31m9.9 MB/s\u001b[0m eta \u001b[36m0:00:00\u001b[0m\n",
            "\u001b[?25hRequirement already satisfied: tqdm in /usr/local/lib/python3.10/dist-packages (from torch_geometric) (4.66.2)\n",
            "Requirement already satisfied: numpy in /usr/local/lib/python3.10/dist-packages (from torch_geometric) (1.25.2)\n",
            "Requirement already satisfied: scipy in /usr/local/lib/python3.10/dist-packages (from torch_geometric) (1.11.4)\n",
            "Requirement already satisfied: fsspec in /usr/local/lib/python3.10/dist-packages (from torch_geometric) (2023.6.0)\n",
            "Requirement already satisfied: jinja2 in /usr/local/lib/python3.10/dist-packages (from torch_geometric) (3.1.3)\n",
            "Requirement already satisfied: aiohttp in /usr/local/lib/python3.10/dist-packages (from torch_geometric) (3.9.5)\n",
            "Requirement already satisfied: requests in /usr/local/lib/python3.10/dist-packages (from torch_geometric) (2.31.0)\n",
            "Requirement already satisfied: pyparsing in /usr/local/lib/python3.10/dist-packages (from torch_geometric) (3.1.2)\n",
            "Requirement already satisfied: scikit-learn in /usr/local/lib/python3.10/dist-packages (from torch_geometric) (1.2.2)\n",
            "Requirement already satisfied: psutil>=5.8.0 in /usr/local/lib/python3.10/dist-packages (from torch_geometric) (5.9.5)\n",
            "Requirement already satisfied: aiosignal>=1.1.2 in /usr/local/lib/python3.10/dist-packages (from aiohttp->torch_geometric) (1.3.1)\n",
            "Requirement already satisfied: attrs>=17.3.0 in /usr/local/lib/python3.10/dist-packages (from aiohttp->torch_geometric) (23.2.0)\n",
            "Requirement already satisfied: frozenlist>=1.1.1 in /usr/local/lib/python3.10/dist-packages (from aiohttp->torch_geometric) (1.4.1)\n",
            "Requirement already satisfied: multidict<7.0,>=4.5 in /usr/local/lib/python3.10/dist-packages (from aiohttp->torch_geometric) (6.0.5)\n",
            "Requirement already satisfied: yarl<2.0,>=1.0 in /usr/local/lib/python3.10/dist-packages (from aiohttp->torch_geometric) (1.9.4)\n",
            "Requirement already satisfied: async-timeout<5.0,>=4.0 in /usr/local/lib/python3.10/dist-packages (from aiohttp->torch_geometric) (4.0.3)\n",
            "Requirement already satisfied: MarkupSafe>=2.0 in /usr/local/lib/python3.10/dist-packages (from jinja2->torch_geometric) (2.1.5)\n",
            "Requirement already satisfied: charset-normalizer<4,>=2 in /usr/local/lib/python3.10/dist-packages (from requests->torch_geometric) (3.3.2)\n",
            "Requirement already satisfied: idna<4,>=2.5 in /usr/local/lib/python3.10/dist-packages (from requests->torch_geometric) (3.7)\n",
            "Requirement already satisfied: urllib3<3,>=1.21.1 in /usr/local/lib/python3.10/dist-packages (from requests->torch_geometric) (2.0.7)\n",
            "Requirement already satisfied: certifi>=2017.4.17 in /usr/local/lib/python3.10/dist-packages (from requests->torch_geometric) (2024.2.2)\n",
            "Requirement already satisfied: joblib>=1.1.1 in /usr/local/lib/python3.10/dist-packages (from scikit-learn->torch_geometric) (1.4.0)\n",
            "Requirement already satisfied: threadpoolctl>=2.0.0 in /usr/local/lib/python3.10/dist-packages (from scikit-learn->torch_geometric) (3.5.0)\n",
            "Installing collected packages: torch_geometric\n",
            "Successfully installed torch_geometric-2.5.3\n",
            "Looking in links: https://data.pyg.org/whl/torch-2.2.0+cpu.html\n",
            "Collecting torch_scatter\n",
            "  Downloading https://data.pyg.org/whl/torch-2.2.0%2Bcpu/torch_scatter-2.1.2%2Bpt22cpu-cp310-cp310-linux_x86_64.whl (508 kB)\n",
            "\u001b[2K     \u001b[90m━━━━━━━━━━━━━━━━━━━━━━━━━━━━━━━━━━━━━━━━\u001b[0m \u001b[32m508.1/508.1 kB\u001b[0m \u001b[31m13.5 MB/s\u001b[0m eta \u001b[36m0:00:00\u001b[0m\n",
            "\u001b[?25hCollecting torch_sparse\n",
            "  Downloading https://data.pyg.org/whl/torch-2.2.0%2Bcpu/torch_sparse-0.6.18%2Bpt22cpu-cp310-cp310-linux_x86_64.whl (1.2 MB)\n",
            "\u001b[2K     \u001b[90m━━━━━━━━━━━━━━━━━━━━━━━━━━━━━━━━━━━━━━━━\u001b[0m \u001b[32m1.2/1.2 MB\u001b[0m \u001b[31m51.0 MB/s\u001b[0m eta \u001b[36m0:00:00\u001b[0m\n",
            "\u001b[?25hCollecting torch_cluster\n",
            "  Downloading https://data.pyg.org/whl/torch-2.2.0%2Bcpu/torch_cluster-1.6.3%2Bpt22cpu-cp310-cp310-linux_x86_64.whl (770 kB)\n",
            "\u001b[2K     \u001b[90m━━━━━━━━━━━━━━━━━━━━━━━━━━━━━━━━━━━━━━━━\u001b[0m \u001b[32m770.0/770.0 kB\u001b[0m \u001b[31m52.3 MB/s\u001b[0m eta \u001b[36m0:00:00\u001b[0m\n",
            "\u001b[?25hCollecting torch_spline_conv\n",
            "  Downloading https://data.pyg.org/whl/torch-2.2.0%2Bcpu/torch_spline_conv-1.2.2%2Bpt22cpu-cp310-cp310-linux_x86_64.whl (213 kB)\n",
            "\u001b[2K     \u001b[90m━━━━━━━━━━━━━━━━━━━━━━━━━━━━━━━━━━━━━━━━\u001b[0m \u001b[32m213.9/213.9 kB\u001b[0m \u001b[31m22.3 MB/s\u001b[0m eta \u001b[36m0:00:00\u001b[0m\n",
            "\u001b[?25hRequirement already satisfied: scipy in /usr/local/lib/python3.10/dist-packages (from torch_sparse) (1.11.4)\n",
            "Requirement already satisfied: numpy<1.28.0,>=1.21.6 in /usr/local/lib/python3.10/dist-packages (from scipy->torch_sparse) (1.25.2)\n",
            "Installing collected packages: torch_spline_conv, torch_scatter, torch_sparse, torch_cluster\n",
            "Successfully installed torch_cluster-1.6.3+pt22cpu torch_scatter-2.1.2+pt22cpu torch_sparse-0.6.18+pt22cpu torch_spline_conv-1.2.2+pt22cpu\n"
          ]
        }
      ]
    },
    {
      "cell_type": "code",
      "execution_count": 4,
      "metadata": {
        "id": "TdDo-v8q07Up"
      },
      "outputs": [],
      "source": [
        "import torch\n",
        "from torch_geometric.nn import TransE, ComplEx\n"
      ]
    },
    {
      "cell_type": "markdown",
      "source": [
        "**Function for training**"
      ],
      "metadata": {
        "id": "GeeVbdgG3PFm"
      }
    },
    {
      "cell_type": "code",
      "source": [
        "def train(model, data_loader, optimizer, epochs=5):\n",
        "    for epoch in range(epochs):\n",
        "        model.train()\n",
        "        total_loss = 0\n",
        "        total_examples = 0\n",
        "\n",
        "        for head_index, rel_type, tail_index in data_loader:\n",
        "            optimizer.zero_grad()\n",
        "            loss = model.loss(head_index, rel_type, tail_index)\n",
        "            loss.backward()\n",
        "            optimizer.step()\n",
        "            total_loss += float(loss) * head_index.numel()\n",
        "            total_examples += head_index.numel()\n",
        "\n",
        "        loss = total_loss / total_examples\n",
        "        print(f'Epoch: {epoch:03d}, Loss: {loss:.4f}')"
      ],
      "metadata": {
        "id": "8xRSzCXT1ACV"
      },
      "execution_count": 5,
      "outputs": []
    },
    {
      "cell_type": "markdown",
      "source": [
        "**Function for evaluating**"
      ],
      "metadata": {
        "id": "KM8D28_23Npo"
      }
    },
    {
      "cell_type": "code",
      "source": [
        "def evaluate(model, data_loader):\n",
        "    hits1_list = []\n",
        "    hits3_list = []\n",
        "    hits10_list = []\n",
        "    mr_list = []\n",
        "    mrr_list = []\n",
        "\n",
        "    for head_index, rel_type, tail_index in data_loader:\n",
        "        head_embeds = model.node_emb(head_index)\n",
        "        relation_embeds = model.rel_emb(rel_type)\n",
        "        tail_embeds = model.node_emb(tail_index)\n",
        "\n",
        "        if isinstance(model, TransE):\n",
        "            scores = torch.norm(head_embeds + relation_embeds - tail_embeds, p=1, dim=1)\n",
        "\n",
        "        elif isinstance(model, ComplEx):\n",
        "            # Get real and imaginary parts\n",
        "            re_relation, im_relation = torch.chunk(relation_embeds, 2, dim=1)\n",
        "            re_head, im_head = torch.chunk(head_embeds, 2, dim=1)\n",
        "            re_tail, im_tail = torch.chunk(tail_embeds, 2, dim=1)\n",
        "\n",
        "            # Compute scores\n",
        "            re_score = re_head * re_relation - im_head * im_relation\n",
        "            im_score = re_head * im_relation + im_head * re_relation\n",
        "            scores = (re_score * re_tail + im_score * im_tail)\n",
        "\n",
        "            # Negate as we want to rank scores in ascending order, lower the better\n",
        "            scores = - scores.sum(dim=1)\n",
        "\n",
        "        else:\n",
        "            raise ValueError(f'Unsupported model.')\n",
        "\n",
        "        scores = scores.view(-1, head_embeds.size()[0])\n",
        "\n",
        "        hits1, hits3, hits10, mr, mrr = eval_metrics(scores)\n",
        "        hits1_list.append(hits1.item())\n",
        "        hits3_list.append(hits3.item())\n",
        "        hits10_list.append(hits10.item())\n",
        "        mr_list.append(mr.item())\n",
        "        mrr_list.append(mrr.item())\n",
        "\n",
        "    hits1 = sum(hits1_list) / len(hits1_list)\n",
        "    hits3 = sum(hits3_list) / len(hits1_list)\n",
        "    hits10 = sum(hits10_list) / len(hits1_list)\n",
        "    mr = sum(mr_list) / len(hits1_list)\n",
        "    mrr = sum(mrr_list) / len(hits1_list)\n",
        "\n",
        "    return hits1, hits3, hits10, mr, mrr"
      ],
      "metadata": {
        "id": "41MZ8Fg61o6_"
      },
      "execution_count": 6,
      "outputs": []
    },
    {
      "cell_type": "markdown",
      "source": [
        "**Evaluation metrics**"
      ],
      "metadata": {
        "id": "zfo8z1dV3IBE"
      }
    },
    {
      "cell_type": "code",
      "source": [
        "def eval_metrics(y_pred):\n",
        "    argsort = torch.argsort(y_pred, dim=1, descending=False)\n",
        "    # not using argsort to do the rankings to avoid bias when the scores are equal\n",
        "    ranking_list = torch.nonzero(argsort == 0, as_tuple=False)\n",
        "    ranking_list = ranking_list[:, 1] + 1\n",
        "    hits1_list = (ranking_list <= 1).to(torch.float)\n",
        "    hits3_list = (ranking_list <= 3).to(torch.float)\n",
        "    hits10_list = (ranking_list <= 10).to(torch.float)\n",
        "    mr_list = ranking_list.to(torch.float)\n",
        "    mrr_list = 1. / ranking_list.to(torch.float)\n",
        "\n",
        "    return hits1_list.mean(), hits3_list.mean(), hits10_list.mean(), mr_list.mean(), mrr_list.mean()"
      ],
      "metadata": {
        "id": "igNEcybC1pdp"
      },
      "execution_count": 7,
      "outputs": []
    },
    {
      "cell_type": "markdown",
      "source": [
        "**Load data**"
      ],
      "metadata": {
        "id": "NPkGql1K3SK3"
      }
    },
    {
      "cell_type": "code",
      "source": [
        "from torch_geometric.datasets import FB15k_237\n",
        "\n",
        "train_data = FB15k_237('../data/FB15k', split='train')[0]\n",
        "val_data = FB15k_237('../data/FB15k', split='val')[0]\n",
        "test_data = FB15k_237('../data/FB15k', split='test')[0]\n"
      ],
      "metadata": {
        "colab": {
          "base_uri": "https://localhost:8080/"
        },
        "id": "ATCe8irW1rKp",
        "outputId": "f46d0cd7-a230-4d8a-9ae6-cde79db82ab1"
      },
      "execution_count": 8,
      "outputs": [
        {
          "output_type": "stream",
          "name": "stderr",
          "text": [
            "Downloading https://raw.githubusercontent.com/villmow/datasets_knowledge_embedding/master/FB15k-237/train.txt\n",
            "Downloading https://raw.githubusercontent.com/villmow/datasets_knowledge_embedding/master/FB15k-237/valid.txt\n",
            "Downloading https://raw.githubusercontent.com/villmow/datasets_knowledge_embedding/master/FB15k-237/test.txt\n",
            "Processing...\n",
            "Done!\n"
          ]
        }
      ]
    },
    {
      "cell_type": "markdown",
      "source": [
        "# **EXERCISE 1**"
      ],
      "metadata": {
        "id": "fVTJUZA62AC9"
      }
    },
    {
      "cell_type": "markdown",
      "source": [
        "TransE Knowledge Graph"
      ],
      "metadata": {
        "id": "50WJILZn2FRu"
      }
    },
    {
      "cell_type": "code",
      "source": [
        "from torch.optim import Adam\n",
        "\n",
        "model = TransE(num_nodes=train_data.num_nodes,\n",
        "                   num_relations=train_data.num_edge_types,\n",
        "                   hidden_channels=50)\n",
        "\n",
        "loader = model.loader(head_index=train_data.edge_index[0],\n",
        "                          rel_type=train_data.edge_type,\n",
        "                          tail_index=train_data.edge_index[1],\n",
        "                          batch_size=1000,\n",
        "                          shuffle=True)\n",
        "\n",
        "optimizer = Adam(model.parameters(), lr=0.01)"
      ],
      "metadata": {
        "id": "331zSBJK10Sg"
      },
      "execution_count": 9,
      "outputs": []
    },
    {
      "cell_type": "markdown",
      "source": [
        "**Train model**"
      ],
      "metadata": {
        "id": "PsH66Ism3AuJ"
      }
    },
    {
      "cell_type": "code",
      "source": [
        "train(model, loader, optimizer)"
      ],
      "metadata": {
        "colab": {
          "base_uri": "https://localhost:8080/"
        },
        "id": "Zy3yc-YE17k8",
        "outputId": "522e33b1-8487-4eaa-a7c8-b3445aeac996"
      },
      "execution_count": 10,
      "outputs": [
        {
          "output_type": "stream",
          "name": "stdout",
          "text": [
            "Epoch: 000, Loss: 0.7595\n",
            "Epoch: 001, Loss: 0.5575\n",
            "Epoch: 002, Loss: 0.4357\n",
            "Epoch: 003, Loss: 0.3495\n",
            "Epoch: 004, Loss: 0.2951\n"
          ]
        }
      ]
    },
    {
      "cell_type": "markdown",
      "source": [
        "**Results**"
      ],
      "metadata": {
        "id": "2odbCT5I3B98"
      }
    },
    {
      "cell_type": "code",
      "source": [
        "rank, mrr, hits10 = model.test(head_index=test_data.edge_index[0],\n",
        "                                   rel_type=test_data.edge_type,\n",
        "                                   tail_index=test_data.edge_index[1],\n",
        "                                   batch_size=1000, k=10)"
      ],
      "metadata": {
        "colab": {
          "base_uri": "https://localhost:8080/"
        },
        "id": "vEaAIIEZ2Sqg",
        "outputId": "29504faf-e426-48ac-cdaf-1160a451a9da"
      },
      "execution_count": 11,
      "outputs": [
        {
          "output_type": "stream",
          "name": "stderr",
          "text": [
            "100%|██████████| 20466/20466 [22:33<00:00, 15.12it/s]\n"
          ]
        }
      ]
    },
    {
      "cell_type": "code",
      "source": [
        "print('Results:')\n",
        "print(f'Rank: {rank}, MRR: {mrr:.4f}, Hits@10: {hits10:.2f}')"
      ],
      "metadata": {
        "colab": {
          "base_uri": "https://localhost:8080/"
        },
        "id": "Hs5Jukgh7x25",
        "outputId": "74a6b7ff-4a8a-42fb-bb18-f590213b1c02"
      },
      "execution_count": 15,
      "outputs": [
        {
          "output_type": "stream",
          "name": "stdout",
          "text": [
            "Results:\n",
            "Rank: 688.9366455078125, MRR: 0.1961, Hits@10: 0.33\n"
          ]
        }
      ]
    },
    {
      "cell_type": "markdown",
      "source": [
        "# **EXERCISE 2**"
      ],
      "metadata": {
        "id": "usc6bKsx2eht"
      }
    },
    {
      "cell_type": "code",
      "source": [
        "model2 = ComplEx(num_nodes=train_data.num_nodes,\n",
        "                   num_relations=train_data.num_edge_types,\n",
        "                   hidden_channels=50)\n",
        "\n",
        "loader2 = model2.loader(head_index=train_data.edge_index[0],\n",
        "                          rel_type=train_data.edge_type,\n",
        "                          tail_index=train_data.edge_index[1],\n",
        "                          batch_size=1000,\n",
        "                          shuffle=True)\n",
        "\n",
        "optimizer2 = Adam(model.parameters(), lr=0.01)"
      ],
      "metadata": {
        "id": "CCvgGymj2m3h"
      },
      "execution_count": 12,
      "outputs": []
    },
    {
      "cell_type": "markdown",
      "source": [
        "**Train model**"
      ],
      "metadata": {
        "id": "ZkgLT1Oj22VY"
      }
    },
    {
      "cell_type": "code",
      "source": [
        "train(model2, loader2, optimizer2)"
      ],
      "metadata": {
        "colab": {
          "base_uri": "https://localhost:8080/"
        },
        "id": "Pvaqsw0t2zuK",
        "outputId": "92125de6-41e4-4188-aa2f-f302e97e70a6"
      },
      "execution_count": 13,
      "outputs": [
        {
          "output_type": "stream",
          "name": "stdout",
          "text": [
            "Epoch: 000, Loss: 0.6931\n",
            "Epoch: 001, Loss: 0.6931\n",
            "Epoch: 002, Loss: 0.6931\n",
            "Epoch: 003, Loss: 0.6931\n",
            "Epoch: 004, Loss: 0.6931\n"
          ]
        }
      ]
    },
    {
      "cell_type": "markdown",
      "source": [
        "**Results**"
      ],
      "metadata": {
        "id": "dor2RF1H23XD"
      }
    },
    {
      "cell_type": "code",
      "source": [
        "rank, mrr, hits10 = model2.test(head_index=test_data.edge_index[0],\n",
        "                                   rel_type=test_data.edge_type,\n",
        "                                   tail_index=test_data.edge_index[1],\n",
        "                                   batch_size=1000, k=10)"
      ],
      "metadata": {
        "colab": {
          "base_uri": "https://localhost:8080/"
        },
        "id": "s3QOmRLD21wZ",
        "outputId": "5622ad35-df6f-4bdf-b3a3-ac6700b4c1a5"
      },
      "execution_count": 16,
      "outputs": [
        {
          "output_type": "stream",
          "name": "stderr",
          "text": [
            "100%|██████████| 20466/20466 [04:17<00:00, 79.57it/s]\n"
          ]
        }
      ]
    },
    {
      "cell_type": "code",
      "source": [
        "print('Results:')\n",
        "print(f'Rank: {rank}, MRR: {mrr:.4f}, Hits@10: {hits10:.2f}')"
      ],
      "metadata": {
        "colab": {
          "base_uri": "https://localhost:8080/"
        },
        "id": "Jxw6UHVT8DBV",
        "outputId": "236e8b0c-e406-4d49-acae-8395fc2108d7"
      },
      "execution_count": 17,
      "outputs": [
        {
          "output_type": "stream",
          "name": "stdout",
          "text": [
            "Results:\n",
            "Rank: 7262.2880859375, MRR: 0.0007, Hits@10: 0.00\n"
          ]
        }
      ]
    },
    {
      "cell_type": "code",
      "source": [],
      "metadata": {
        "id": "7ZTpWbo6_NJf"
      },
      "execution_count": null,
      "outputs": []
    }
  ]
}